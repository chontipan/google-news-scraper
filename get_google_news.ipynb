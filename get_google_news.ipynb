{
 "cells": [
  {
   "cell_type": "code",
   "execution_count": 1,
   "metadata": {},
   "outputs": [],
   "source": [
    "#pip install GoogleNews"
   ]
  },
  {
   "cell_type": "code",
   "execution_count": 2,
   "metadata": {},
   "outputs": [],
   "source": [
    "from GoogleNews import GoogleNews"
   ]
  },
  {
   "cell_type": "code",
   "execution_count": 3,
   "metadata": {},
   "outputs": [
    {
     "output_type": "stream",
     "name": "stdout",
     "text": "page  1: 10\npage  2 :  10\npage  3 :  10\npage  4 :  0\n30\n"
    }
   ],
   "source": [
    "googlenews = GoogleNews()\n",
    "googlenews = GoogleNews(lang='en')\n",
    "googlenews = GoogleNews(period='d')\n",
    "googlenews.setTimeRange('05/24/2020','05/24/2020')\n",
    "googlenews.search('Taiwan')\n",
    "result = googlenews.result()\n",
    "print(\"page  1:\",len(result))\n",
    "\n",
    "\n",
    "#try to get all news in the time range\n",
    "counter=2\n",
    "googlenews.clear()\n",
    "while(True):\n",
    "    googlenews.getpage(counter)\n",
    "    temp = googlenews.result()\n",
    "    print(\"page \",counter,\": \",len(temp))\n",
    "    if(len(temp)==0):\n",
    "        break\n",
    "    result+=temp\n",
    "    googlenews.clear()\n",
    "    counter+=1\n",
    "print(len(result))"
   ]
  },
  {
   "cell_type": "code",
   "execution_count": 4,
   "metadata": {
    "tags": [
     "outputPrepend"
    ]
   },
   "outputs": [
    {
     "output_type": "stream",
     "name": "stdout",
     "text": "1\nCORONAVIRUS/CECC holds daily press briefing in southern ...\nFocus Taiwan News Channel\n10 小時前\nTaiwan is at little risk of community outbreak, as no local transmissions have been reported for 41 consecutive days, Chen said, adding that restrictions on travel ...\nhttps://focustaiwan.tw/society/202005240007\n==========\n2\nMore rainfall forecast for Taiwan this week\nTaiwan News\n9 小時前\nTAIPEI (Taiwan News) — Taiwan will once again see heavy rains from Tuesday to Thursday (May 26-28), as the plum rain front that has brought much-needed ...\nhttps://www.taiwannews.com.tw/en/news/3939719\n==========\n3\nTaiwan's NIA beefs up screenings on entries by Chinese ...\nTaiwan News\n6 小時前\nTaiwan's National Immigration Agency (NIA) has strengthened its screening of entry permit applications by Chinese nationals affiliated with the Communist Party ...\nhttps://www.taiwannews.com.tw/en/news/3939736\n==========\n4\nTaiwan saw spike in Hongkongers seeking residency in 2019\nTaiwan News\n10 小時前\nTAIPEI (Taiwan News) — Taiwan saw significant growth in the number of Hong Kong residents fleeing to the country last year amid months of political ...\nhttps://www.taiwannews.com.tw/en/news/3939743\n==========\n5\nTaiwan LGBT group raising money to fight homophobia\nTaiwan News\n10 小時前\nTAIPEI (Taiwan News) — Taiwanese LGBT group Equallove Taiwan has launched its \"Queer Day, Good Day\" fundraising campaign, which aims to reduce ...\nhttps://www.taiwannews.com.tw/en/news/3939723\n==========\n6\nTaiwan fuel prices to hike again on Monday\nTaiwan News\n8 小時前\nTAIPEI (Taiwan News) — Taiwanese state-run petroleum refiner CPC Corp announced on Sunday (May 24) that retail prices for gasoline and diesel will go up ...\nhttps://www.taiwannews.com.tw/en/news/3939784\n==========\n7\nHealth minister promises aid to Italian priest's hometown\nFocus Taiwan News Channel\n6 小時前\nOrifiamma came to Taiwan 20 years ago and speaks fluent Mandarin. He has previously served in Pingtung's Laiyi and Chunri townships, both of which are ...\nhttps://focustaiwan.tw/society/202005240012\n==========\n8\nPhilippines to join Taiwan's clinical trials for COVID-19 vaccine\nFocus Taiwan News Channel\n6 小時前\nManila, May 24 (CNA) The Philippines has decided to participate in clinical trials by Taiwanese and Chinese institutions aimed at developing vaccines against ...\nhttps://focustaiwan.tw/sci-tech/202005240013\n==========\n9\nNice place to boost immunity in C. Taiwan: Tanyashen Green ...\nTaiwan News\n7 小時前\nTAIPEI (Taiwan News) — Tanyashen Green Bikeway, a popular bike path in Taichung City that stretches 12 kilometers and connects Tanzi, Daya, and ...\nhttps://www.taiwannews.com.tw/en/news/3939828\n==========\n10\nFacebook issues warning to Taiwan users over potential ...\nTaiwan News\n12 小時前\nTAIPEI (Taiwan News) — Facebook has reportedly issued warnings to users and page administrators in Taiwan over potential cyberattacks. Facebook has sent ...\nhttps://www.taiwannews.com.tw/en/news/3939703\n==========\n11\nInvestment in US could open opportunities for TSMC: analyst\nFocus Taiwan News Channel\n7 小時前\nTaipei, May 24 (CNA) Taiwan Semiconductor Manufacturing Co. (TSMC), the world's biggest contract chipmaker, which recently unveiled plans to build a plant ...\nhttps://focustaiwan.tw/business/202005240009\n==========\n12\nPreparing mentally for reopening our borders\n台北時報\n4 小時前\nThe pandemic has stabilized within Taiwan due to the admirable efforts of each person living in the nation conducting themselves with the utmost responsibility, ...\nhttps://www.taipeitimes.com/News/editorials/archives/2020/05/25/2003736982\n==========\n13\nPHOTO ESSAY/Muslims celebrate annual Eid al-Fitr in Taipei\nFocus Taiwan News Channel\n10 小時前\nHundreds of Muslims in Taiwan, including migrant workers, gathered at the Taipei Travel Plaza, an open space by the Taipei Main Station, Sunday to celebrate ...\nhttps://focustaiwan.tw/culture/202005245001\n==========\n14\nNIA beefs up screenings on entries by Chinese associated ...\nFocus Taiwan News Channel\n11 小時前\nTaipei, May 24 (CNA) Taiwan's National Immigration Agency (NIA) has strengthened its screening of entry permit applications by Chinese nationals affiliated ...\nhttps://focustaiwan.tw/cross-strait/202005240006\n==========\n15\nChina's Defense Ministry opposes US arms sales to Taiwan ...\nCGTN\n6 小時前\nChina on Sunday expressed strong dissatisfaction and firm opposition against U.S. arms sales to the Taiwan region, said Wu Qian, spokesperson for the Ministry ...\nhttps://news.cgtn.com/news/2020-05-24/China-s-Defense-Ministry-opposes-U-S-arms-sales-to-Taiwan-region-QL95m3qqOs/index.html\n==========\n16\nChina Diplomat Says US Should Not Challenge China's Red ...\nThe New York Times\n11 小時前\nBEIJING — The United States should not challenge China's red line on Chinese-claimed Taiwan, the Chinese government's top diplomat Wang Yi said on ...\nhttps://www.nytimes.com/reuters/2020/05/24/world/asia/24reuters-china-parliament-taiwan.html\n==========\n17\nDieties around Taiwan\nFocus Taiwan News Channel\n11 小時前\nSome 300 statues of dieties from temples around Taiwan are pictured at a Taoist venue in Tainan during a ceremonial prayer blessing Sunday. CNA photo May ...\nhttps://focustaiwan.tw/photos/20200524ENP0001m\n==========\n18\nWalter Lohman On Taiwan: Future signs of US-China great ...\n台北時報\n4 小時前\nWalter Lohman On Taiwan: Future signs of US-China great power competition. United States Senator “Kit” Bond ( ...\nhttps://www.taipeitimes.com/News/editorials/archives/2020/05/25/2003736981\n==========\n19\nChina firmly opposes US arms sales to Taiwan: spokesperson\n新华网\n3 小時前\nBEIJING, May 24 (Xinhua) -- China on Sunday strongly urged the U.S. to immediately stop arms sales to Taiwan and cease military contacts with the island, ...\nhttp://www.xinhuanet.com/english/2020-05/25/c_139084579.htm\n==========\n20\nNSO holds first concert before live audience since March\nFocus Taiwan News Channel\n6 小時前\nFocus Taiwan (CNA) uses tracking technologies to provide better reading experiences, but it also respects readers' privacy. Click here to find out more about ...\nhttps://focustaiwan.tw/culture/202005240011\n==========\n21\nPLA drill in South China Sea about combat readiness, not ...\nSouth China Morning Post\n6 小時前\nPLA drill in South China Sea about combat readiness, not seizing Taiwanese ... Taipei, their aim is not to seize Taiwan-controlled territory, military observers say.\nhttps://www.scmp.com/news/china/military/article/3085823/pla-drill-south-china-sea-about-combat-readiness-not-seizing\n==========\n22\nGroup protests Taipei rail station hall restrictions\nTaipei Times\n4 小時前\nThe Taiwan Railways Administration (TRA) should not use the government's disease-prevention policy as an excuse to block people's access to the Taipei ...\nhttps://www.taipeitimes.com/News/taiwan/archives/2020/05/25/2003736999\n==========\n23\nChina diplomat says US should not challenge China's red line ...\nMidwest Communication\n11 小時前\nBEIJING (Reuters) - The United States should not challenge China's red line on Chinese-claimed Taiwan, the Chinese government's top diplomat Wang Yi said ...\nhttps://wkzo.com/news/articles/2020/may/24/china-diplomat-says-us-should-not-challenge-chinas-red-line-on-taiwan/1021620/?refer-section=world\n==========\n24\nUS urged to ditch illusions, political calculations on Taiwan ...\nXinhua\n10 小時前\n... China urges the United States to ditch its illusions and political calculations, and not to make any attempt to challenge China's red line on the Taiwan question, ...\nhttp://www.xinhuanet.com/english/2020-05/24/c_139083832.htm\n==========\n25\nRecall campaigners ready for final Kaohsiung push\nTaipei Times\n4 小時前\nTaiwan Statebuilding Party members hold signs and yellow ribbons in Hsinchu yesterday, urging people with household registrations in Kaohsiung to go home to ...\nhttps://www.taipeitimes.com/News/taiwan/archives/2020/05/25/2003737005\n==========\n26\nGlobal Forecast-Fahrenheit\nTaiwan News\n7 小時前\nSydney, Australia;Very windy;65;56;Very windy;61;57;SSE;27;78%;98%;1. Taipei City, Taiwan;Partly sunny;84;75;Rain, a thunderstorm;88;76;SE;7;70%;75%;12.\nhttps://www.taiwannews.com.tw/en/news/3939814\n==========\n27\nDPP's Fan calls for probe into science clubs' materials\nTaipei Times\n4 小時前\nThe inclusion of Taiwan as a part of China is damaging to the nation's sovereignty, she said. The publisher is using science to give students an incorrect ...\nhttps://www.taipeitimes.com/News/taiwan/archives/2020/05/25/2003737007\n==========\n28\nDesperate Indian girl bikes 745 miles home with disabled dad\nTaiwan News\n11 小時前\nTravel & Cuisine · New Immigrants · Sports & Entertainment · Environment · Food Safety & Health · Photo of the Day · 2020 Taiwan Presidential Election · 漢En ...\nhttps://www.taiwannews.com.tw/en/news/3939745\n==========\n29\nWestern Australia state hit by 'once-in-a-decade' storm\nTaiwan News\n8 小時前\nTravel & Cuisine · New Immigrants · Sports & Entertainment · Environment · Food Safety & Health · Photo of the Day · 2020 Taiwan Presidential Election · 漢En ...\nhttps://www.taiwannews.com.tw/en/news/3939797\n==========\n30\nJerusalem's Holy Sepulcher reopens after coronavirus closure\nTaiwan News\n12 小時前\nTravel & Cuisine · New Immigrants · Sports & Entertainment · Environment · Food Safety & Health · Photo of the Day · 2020 Taiwan Presidential Election · 漢En ...\nhttps://www.taiwannews.com.tw/en/news/3939714\n==========\n"
    }
   ],
   "source": [
    "index=1\n",
    "urls=[]\n",
    "for r in result:\n",
    "    print(index)\n",
    "    index+=1\n",
    "    print(r[\"title\"])\n",
    "    print(r[\"media\"])\n",
    "    print(r[\"date\"])\n",
    "    print(r[\"desc\"])\n",
    "    print(r[\"link\"])\n",
    "    urls.append(r[\"link\"])\n",
    "    print(\"=\"*10)"
   ]
  },
  {
   "cell_type": "code",
   "execution_count": 5,
   "metadata": {},
   "outputs": [
    {
     "output_type": "stream",
     "name": "stdout",
     "text": "30\n30\n"
    }
   ],
   "source": [
    "print(len(urls))\n",
    "urls = set(urls)\n",
    "print(len(urls))"
   ]
  },
  {
   "cell_type": "code",
   "execution_count": 6,
   "metadata": {
    "tags": [
     "outputPrepend"
    ]
   },
   "outputs": [
    {
     "output_type": "stream",
     "name": "stdout",
     "text": "{'https://news.cgtn.com/news/2020-05-24/China-s-Defense-Ministry-opposes-U-S-arms-sales-to-Taiwan-region-QL95m3qqOs/index.html', 'https://focustaiwan.tw/business/202005240009', 'https://www.taiwannews.com.tw/en/news/3939784', 'https://wkzo.com/news/articles/2020/may/24/china-diplomat-says-us-should-not-challenge-chinas-red-line-on-taiwan/1021620/?refer-section=world', 'https://focustaiwan.tw/society/202005240012', 'https://www.taipeitimes.com/News/taiwan/archives/2020/05/25/2003736999', 'https://www.nytimes.com/reuters/2020/05/24/world/asia/24reuters-china-parliament-taiwan.html', 'https://www.scmp.com/news/china/military/article/3085823/pla-drill-south-china-sea-about-combat-readiness-not-seizing', 'https://www.taiwannews.com.tw/en/news/3939828', 'https://focustaiwan.tw/cross-strait/202005240006', 'http://www.xinhuanet.com/english/2020-05/25/c_139084579.htm', 'https://focustaiwan.tw/photos/20200524ENP0001m', 'https://www.taiwannews.com.tw/en/news/3939723', 'https://www.taipeitimes.com/News/editorials/archives/2020/05/25/2003736982', 'https://www.taipeitimes.com/News/taiwan/archives/2020/05/25/2003737005', 'https://www.taipeitimes.com/News/taiwan/archives/2020/05/25/2003737007', 'https://focustaiwan.tw/culture/202005240011', 'http://www.xinhuanet.com/english/2020-05/24/c_139083832.htm', 'https://www.taiwannews.com.tw/en/news/3939797', 'https://www.taipeitimes.com/News/editorials/archives/2020/05/25/2003736981', 'https://focustaiwan.tw/society/202005240007', 'https://focustaiwan.tw/sci-tech/202005240013', 'https://focustaiwan.tw/culture/202005245001', 'https://www.taiwannews.com.tw/en/news/3939714', 'https://www.taiwannews.com.tw/en/news/3939703', 'https://www.taiwannews.com.tw/en/news/3939719', 'https://www.taiwannews.com.tw/en/news/3939743', 'https://www.taiwannews.com.tw/en/news/3939745', 'https://www.taiwannews.com.tw/en/news/3939814', 'https://www.taiwannews.com.tw/en/news/3939736'}\n"
    }
   ],
   "source": [
    "print(urls)"
   ]
  },
  {
   "cell_type": "code",
   "execution_count": 7,
   "metadata": {
    "tags": [
     "outputPrepend"
    ]
   },
   "outputs": [],
   "source": [
    "# import urllib.request\n",
    "# headers = {'User-Agent': 'Mozilla/5.0 (X11; Ubuntu; Linux i686; rv:64.0) Gecko/20100101 Firefox/64.0'}\n",
    "# url = 'https://news.google.com/'\n",
    "# req = urllib.request.Request(url, headers=headers)\n",
    "# response = urllib.request.urlopen(req)\n",
    "# page = response.read()\n",
    "# print(page)"
   ]
  },
  {
   "cell_type": "code",
   "execution_count": null,
   "metadata": {},
   "outputs": [],
   "source": []
  }
 ],
 "metadata": {
  "kernelspec": {
   "display_name": "Python 3.8.2 64-bit",
   "language": "python",
   "name": "python38264bit33b66621aa3943cebcc08ffccb7bf69e"
  },
  "language_info": {
   "codemirror_mode": {
    "name": "ipython",
    "version": 3
   },
   "file_extension": ".py",
   "mimetype": "text/x-python",
   "name": "python",
   "nbconvert_exporter": "python",
   "pygments_lexer": "ipython3",
   "version": "3.8.2-final"
  }
 },
 "nbformat": 4,
 "nbformat_minor": 4
}